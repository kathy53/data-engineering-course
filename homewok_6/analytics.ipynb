{
 "cells": [
  {
   "cell_type": "markdown",
   "id": "7fcbad84-9c33-4706-9aae-17c80b05e783",
   "metadata": {},
   "source": [
    "Producer"
   ]
  },
  {
   "cell_type": "code",
   "execution_count": 1,
   "id": "dac02979-a97b-491f-af71-5e8d0490a5f2",
   "metadata": {},
   "outputs": [],
   "source": [
    "import datetime\n",
    "import random\n",
    "import time"
   ]
  },
  {
   "cell_type": "code",
   "execution_count": null,
   "id": "9faeec00-ad2a-430b-88d2-807951560044",
   "metadata": {},
   "outputs": [],
   "source": [
    "from kafka import KafkaProducer\n",
    "\n",
    "def json_serializer(data):\n",
    "    return json.dumps(data).encode('utf-8')\n",
    "\n",
    "server = 'localhost:9092'\n",
    "\n",
    "producer = KafkaProducer(\n",
    "    bootstrap_servers=[server],\n",
    "    value_serializer=json_serializer\n",
    ")\n",
    "\n",
    "producer.bootstrap_connected()"
   ]
  },
  {
   "cell_type": "code",
   "execution_count": null,
   "id": "9aa0ebc0-56df-4ec4-bc82-0c7982d84ab6",
   "metadata": {},
   "outputs": [],
   "source": [
    "import pandas as pd\n",
    "columns_of_interest = [\n",
    "    'lpep_pickup_datetime',\n",
    "    'lpep_dropoff_datetime',\n",
    "    'PULocationID',\n",
    "    'DOLocationID',\n",
    "    'passenger_count',\n",
    "    'trip_distance',\n",
    "    'tip_amount',\n",
    "     \n",
    "]\n",
    "df_green = pd.read_csv('green_tripdata_2019-10.csv.gz', compression='gzip', usecols=columns_of_interest) #, error_bad_lines=False)\n",
    "df_green.head()"
   ]
  },
  {
   "cell_type": "code",
   "execution_count": null,
   "id": "f9a118e4-9397-43b2-af3f-49d2ed6ac143",
   "metadata": {},
   "outputs": [],
   "source": [
    "topic_name = 'green-trips'\n",
    "time0 = time.time()\n",
    "# tqdm.tqdm(df_green.head().iterrows())\n",
    "for _, row in tqdm.tqdm(df_green.iterrows(),len(df_green)) :\n",
    "    row_dict = row.to_dict()\n",
    "    row_dict['timestamp'] = datetime.datetime.utcnow().strftime(\"%Y-%m-%d %H:%M:%S\")\n",
    "    time.sleep(random.randrange(0, 100) / 1000)\n",
    "    producer.send(topic_name, value=row_dict)\n",
    "    # print(row_dict)\n",
    "    \n",
    "producer.flush()\n",
    "t1 = time.time()\n",
    "print(f'took {(t1 - time0):.2f} seconds')"
   ]
  },
  {
   "cell_type": "markdown",
   "id": "78ef5890-293f-4cec-a6a0-acc1c0f5c900",
   "metadata": {},
   "source": [
    "Consumer"
   ]
  },
  {
   "cell_type": "code",
   "execution_count": null,
   "id": "caa59a80-a029-47f8-a359-3faa4c82c145",
   "metadata": {},
   "outputs": [],
   "source": [
    "import pyspark\n",
    "from pyspark.sql import SparkSession\n",
    "\n",
    "pyspark_version = pyspark.__version__\n",
    "kafka_jar_package = f\"org.apache.spark:spark-sql-kafka-0-10_2.12:{pyspark_version}\"\n",
    "\n",
    "spark = SparkSession \\\n",
    "    .builder \\\n",
    "    .master(\"local[*]\") \\\n",
    "    .appName(\"GreenTripsConsumer\") \\\n",
    "    .config(\"spark.jars.packages\", kafka_jar_package) \\\n",
    "    .getOrCreate()"
   ]
  },
  {
   "cell_type": "code",
   "execution_count": null,
   "id": "a5c0df39-c232-40c5-8d8d-aa9d76f13923",
   "metadata": {},
   "outputs": [],
   "source": [
    "green_stream = spark \\\n",
    "    .readStream \\\n",
    "    .format(\"kafka\") \\\n",
    "    .option(\"kafka.bootstrap.servers\", \"localhost:9092\") \\\n",
    "    .option(\"subscribe\", \"green-trips\") \\\n",
    "    .option(\"startingOffsets\", \"earliest\") \\\n",
    "    .load()"
   ]
  },
  {
   "cell_type": "code",
   "execution_count": null,
   "id": "6356c588-bbd2-4e73-b955-6124b6018ccc",
   "metadata": {},
   "outputs": [],
   "source": [
    "from pyspark.sql import types\n",
    "\n",
    "schema = types.StructType() \\\n",
    "    .add(\"lpep_pickup_datetime\", types.StringType()) \\\n",
    "    .add(\"lpep_dropoff_datetime\", types.StringType()) \\\n",
    "    .add(\"PULocationID\", types.IntegerType()) \\\n",
    "    .add(\"DOLocationID\", types.IntegerType()) \\\n",
    "    .add(\"passenger_count\", types.DoubleType()) \\\n",
    "    .add(\"trip_distance\", types.DoubleType()) \\\n",
    "    .add(\"tip_amount\", types.DoubleType()) \\\n",
    "    .add(\"timestamp\", types.StringType())\n"
   ]
  },
  {
   "cell_type": "markdown",
   "id": "d8b1f24c-8982-454d-aea1-a2afcc96b7cd",
   "metadata": {},
   "source": [
    "Analytics"
   ]
  },
  {
   "cell_type": "code",
   "execution_count": null,
   "id": "c2969477-eb12-4242-b068-1a2fc3fb26c6",
   "metadata": {},
   "outputs": [],
   "source": [
    "from pyspark.sql import functions as F\n",
    "\n",
    "green_stream = green_stream \\\n",
    "  .select(F.from_json(F.col(\"value\").cast('STRING'), schema).alias(\"data\")) \\\n",
    "  .select(\"data.*\")"
   ]
  },
  {
   "cell_type": "code",
   "execution_count": null,
   "id": "dd854c6a-508f-486c-b89a-b63449065eda",
   "metadata": {},
   "outputs": [],
   "source": [
    "popular_destinations = green_stream \\\n",
    "    .groupBy(F.window(F.col(\"timestamp\"), \"5 minutes\"),'DOLocationID') \\\n",
    "    .agg(F.count(\"*\").alias(\"total_count\")) \\\n",
    "    .orderBy(\"total_count\", ascending=False)"
   ]
  },
  {
   "cell_type": "code",
   "execution_count": null,
   "id": "41096a0a-f752-4887-8958-50f5aa22b84e",
   "metadata": {},
   "outputs": [],
   "source": [
    "query = popular_destinations \\\n",
    "    .writeStream \\\n",
    "    .outputMode(\"complete\") \\\n",
    "    .format(\"console\") \\\n",
    "    .option(\"truncate\", \"false\") \\\n",
    "    .start()\n",
    "\n",
    "query.awaitTermination()"
   ]
  }
 ],
 "metadata": {
  "kernelspec": {
   "display_name": "Python 3 (ipykernel)",
   "language": "python",
   "name": "python3"
  },
  "language_info": {
   "codemirror_mode": {
    "name": "ipython",
    "version": 3
   },
   "file_extension": ".py",
   "mimetype": "text/x-python",
   "name": "python",
   "nbconvert_exporter": "python",
   "pygments_lexer": "ipython3",
   "version": "3.9.5"
  }
 },
 "nbformat": 4,
 "nbformat_minor": 5
}
